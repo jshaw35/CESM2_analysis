{
 "cells": [
  {
   "cell_type": "markdown",
   "metadata": {},
   "source": [
    "## Testing the accuracy and efficiency of interpolation via xarray"
   ]
  },
  {
   "cell_type": "markdown",
   "metadata": {},
   "source": [
    "### Add paths to run locally or off Cheyenne or Casper \n",
    "(what is the difference between these two again?)"
   ]
  },
  {
   "cell_type": "code",
   "execution_count": 1,
   "metadata": {},
   "outputs": [
    {
     "name": "stdout",
     "output_type": "stream",
     "text": [
      "The autoreload extension is already loaded. To reload it, use:\n",
      "  %reload_ext autoreload\n"
     ]
    }
   ],
   "source": [
    "import sys\n",
    "# Add common resources folder to path\n",
    "sys.path.append('/glade/u/home/jonahshaw/Scripts/git_repos/CESM2_analysis')\n",
    "sys.path.append('/glade/u/home/jonahshaw/Scripts/git_repos/CESM2_analysis/Common/')\n",
    "# sys.path.append(\"/home/jonahks/git_repos/netcdf_analysis/Common/\")\n",
    "\n",
    "from imports import (\n",
    "    pd, np, xr, mpl, plt, sns, os, \n",
    "    datetime, sys, crt, gridspec,\n",
    "    ccrs, metrics, Iterable\n",
    "    )\n",
    "\n",
    "from functions import (\n",
    "    masked_average, add_weights, sp_map,\n",
    "    season_mean, get_dpm, leap_year, share_ylims,\n",
    "    to_png\n",
    "    )\n",
    "\n",
    "from cloud_metric import Cloud_Metric\n",
    "from collections import deque\n",
    "%matplotlib inline"
   ]
  },
  {
   "cell_type": "markdown",
   "metadata": {},
   "source": [
    "### Check running location and adjust working directory appropriately."
   ]
  },
  {
   "cell_type": "code",
   "execution_count": 3,
   "metadata": {},
   "outputs": [
    {
     "name": "stdout",
     "output_type": "stream",
     "text": [
      "Running through CISL Casper\n",
      "Can access all directory paths: True\n"
     ]
    }
   ],
   "source": [
    "host = os.uname()[1]\n",
    "if 'jupyter' in host.split('-'): # Check if running on NIRD through the Jupyter Hub\n",
    "    print('Running through MC2 Jupyter Hub')\n",
    "    model_dir = '/mnt/mcc-ns9600k/jonahks/'\n",
    "    os.chdir(model_dir)\n",
    "    \n",
    "elif 'casper' in host: # Check if running on NIRD through the Jupyter Hub\n",
    "    print('Running through CISL Casper')\n",
    "    obs_dir = '/glade/u/home/jonahshaw/w/obs/'\n",
    "#     model_dir = '/glade/p/cesm/pcwg/jenkay/COSP/'\n",
    "    os.chdir(obs_dir)\n",
    "    \n",
    "elif 'r6i6' in host: # Check if running on NIRD through the Jupyter Hub\n",
    "    print('Running through CISL Cheyenne')\n",
    "    obs_dir = '/glade/u/home/jonahshaw/w/obs/'\n",
    "#     model_dir = '/glade/p/cesm/pcwg/jenkay/COSP/'\n",
    "    os.chdir(obs_dir)\n",
    "\n",
    "else:  # Assume that we're running on a local machine and mounting NIRD\n",
    "    print('Running on %s, attempting to mount ns9600k/jonahks/ from NIRD' % str(host))\n",
    "    os.system('fusermount -zu ~/drivemount/')  # unmount first\n",
    "    os.system('sshfs jonahks@login.nird.sigma2.no:\"p/jonahks/\" ~/drivemount/')    # Calling mountnird from .bashrc doesn't work\n",
    "    os.chdir('/home/jonahks/drivemount/')\n",
    "    save_dir = '~/DATAOUT/'\n",
    "    save_to = os.path.expanduser(save_dir)\n",
    "\n",
    "output_dir = '/glade/u/home/jonahshaw/figures/'\n",
    "obs_dir = '/glade/u/home/jonahshaw/w/obs/'\n",
    "model_dir = '/glade/p/cesm/pcwg/jenkay/COSP/'\n",
    "# case_dir = '/glade/p/cesm/pcwg/jenkay/COSP/cesm21/' \n",
    "\n",
    "# Check that each important directory can be accessed:    \n",
    "access_paths = os.path.exists(output_dir) and os.path.exists(model_dir) #and os.path.exists(conv_dir)\n",
    "print('Can access all directory paths:', access_paths)"
   ]
  },
  {
   "cell_type": "markdown",
   "metadata": {},
   "source": [
    "## For Cheyenne from ATOC python forum. Doesn't work here (Casper?)"
   ]
  },
  {
   "cell_type": "markdown",
   "metadata": {},
   "source": [
    "This was from a section by Eric Keenan, so I could think about reaching out to him. He's my ATOC mentor too, I think.  \n",
    "\n",
    "https://colab.research.google.com/drive/1B4HzAK0a7-d6hEsNjlCIHvOpcfhlKBNH?usp=sharing#scrollTo=KS2xmSyct868"
   ]
  },
  {
   "cell_type": "code",
   "execution_count": 4,
   "metadata": {},
   "outputs": [],
   "source": [
    "# CESM1 = xr.open_dataset('/content/drive/MyDrive/Non-academic/ATOC_Forum/ts_Amon_CESM1-CAM5_historical_rcp85_r1i1p1_185001-210012.nc', chunks={'time':10})\n",
    "# http://xarray.pydata.org/en/stable/dask.html\n",
    "\n",
    "#if using dask on Cheyenne, run this before executing your code:\n",
    "import dask\n",
    "from dask_jobqueue import PBSCluster\n",
    "\n",
    "cluster = PBSCluster(cores=36, processes=8, memory=\"50GB\",\n",
    "                     project='ACCOUNT',  queue='regular',\n",
    "                     resource_spec='select=1:ncpus=8:mem=50G',\n",
    "                     walltime='01:00:00')\n",
    "cluster.scale(18)\n",
    "\n",
    "from dask.distributed import Client\n",
    "client = Client(cluster)\n",
    "client\n",
    "\n",
    "#you can also bring up the dask dashboard as below"
   ]
  },
  {
   "cell_type": "code",
   "execution_count": null,
   "metadata": {},
   "outputs": [],
   "source": []
  }
 ],
 "metadata": {
  "kernelspec": {
   "display_name": "Python [conda env:analysis_pyngl_ffmpeg]",
   "language": "python",
   "name": "conda-env-analysis_pyngl_ffmpeg-py"
  },
  "language_info": {
   "codemirror_mode": {
    "name": "ipython",
    "version": 3
   },
   "file_extension": ".py",
   "mimetype": "text/x-python",
   "name": "python",
   "nbconvert_exporter": "python",
   "pygments_lexer": "ipython3",
   "version": "3.7.8"
  }
 },
 "nbformat": 4,
 "nbformat_minor": 4
}
