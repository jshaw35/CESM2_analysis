{
 "cells": [
  {
   "cell_type": "markdown",
   "metadata": {},
   "source": [
    "# Fix xr-unreadable GOCCP files\n",
    "I will call command-line netcdf operations through python to remove the extraneous 'time' variable."
   ]
  },
  {
   "cell_type": "code",
   "execution_count": 1,
   "metadata": {},
   "outputs": [
    {
     "name": "stdout",
     "output_type": "stream",
     "text": [
      "The autoreload extension is already loaded. To reload it, use:\n",
      "  %reload_ext autoreload\n"
     ]
    }
   ],
   "source": [
    "import sys\n",
    "# Add common resources folder to path\n",
    "sys.path.append('/glade/u/home/jonahshaw/Scripts/git_repos/CESM2_analysis')\n",
    "sys.path.append('/glade/u/home/jonahshaw/Scripts/git_repos/CESM2_analysis/Common/')\n",
    "# sys.path.append(\"/home/jonahks/git_repos/netcdf_analysis/Common/\")\n",
    "\n",
    "from imports import (\n",
    "    pd, np, xr, mpl, plt, sns, os, \n",
    "    datetime, sys, crt, gridspec,\n",
    "    ccrs, metrics, Iterable, xe,\n",
    "    Path, run\n",
    "    )\n",
    "\n",
    "from functions import (\n",
    "    masked_average, add_weights, sp_map,\n",
    "    season_mean, get_dpm, leap_year, share_ylims,\n",
    "    to_png\n",
    "    )\n",
    "\n",
    "from interp_functions import *\n",
    "\n",
    "from cloud_metric import Cloud_Metric\n",
    "from collections import deque\n",
    "%matplotlib inline"
   ]
  },
  {
   "cell_type": "code",
   "execution_count": 2,
   "metadata": {},
   "outputs": [
    {
     "name": "stdout",
     "output_type": "stream",
     "text": [
      "\u001b[0m\u001b[01;34mCESM2_COSP\u001b[0m/         \u001b[01;32mdownload_goccp.ipynb\u001b[0m*   \u001b[01;32msatcomp_metricdev.ipynb\u001b[0m*\n",
      "\u001b[01;34mCommon\u001b[0m/             fix_1x1goccp2006.ipynb  slurm-6501063.out\n",
      "\u001b[01;34mCOSP_icebug\u001b[0m/        \u001b[01;34mInterpolation\u001b[0m/          slurm-6501064.out\n",
      "daskhelp.ipynb      LICENSE\n",
      "\u001b[01;34mdask-worker-space\u001b[0m/  \u001b[01;32mREADME.md\u001b[0m*\n"
     ]
    }
   ],
   "source": [
    "ls"
   ]
  },
  {
   "cell_type": "code",
   "execution_count": 3,
   "metadata": {},
   "outputs": [],
   "source": [
    "obs_dir = '/glade/u/home/jonahshaw/w/obs/'"
   ]
  },
  {
   "cell_type": "code",
   "execution_count": 7,
   "metadata": {},
   "outputs": [
    {
     "name": "stdout",
     "output_type": "stream",
     "text": [
      "/glade/work/jonahshaw/obs/CALIPSO/GOCCP/2Ddata\n"
     ]
    }
   ],
   "source": [
    "cd '/glade/u/home/jonahshaw/w/obs/CALIPSO/GOCCP/2Ddata/'"
   ]
  },
  {
   "cell_type": "code",
   "execution_count": 9,
   "metadata": {},
   "outputs": [
    {
     "name": "stdout",
     "output_type": "stream",
     "text": [
      "\u001b[0m\u001b[01;34m1.25x0.9_from_1x1_python\u001b[0m/  \u001b[01;34m1x1testing\u001b[0m/     \u001b[01;34mgrid_2x2_L40\u001b[0m/\n",
      "\u001b[01;34m1.25x0.9_interpolation\u001b[0m/    \u001b[01;34mgrid_1x1_2006\u001b[0m/  remapweights.nc\n",
      "\u001b[01;34m1.25x0.9_python_interp\u001b[0m/    \u001b[01;34mgrid_1x1_L40\u001b[0m/\n"
     ]
    }
   ],
   "source": [
    "ls"
   ]
  },
  {
   "cell_type": "code",
   "execution_count": 11,
   "metadata": {},
   "outputs": [
    {
     "data": {
      "text/plain": [
       "['MapLowMidHigh330m_200610_avg_CFMIP1_sat_3.1.2.nc',\n",
       " 'MapLowMidHigh330m_200607_avg_CFMIP1_sat_3.1.2.nc',\n",
       " 'MapLowMidHigh_Phase330m_200608_avg_CFMIP1_sat_3.1.2.nc',\n",
       " 'MapLowMidHigh_Phase330m_200607_avg_CFMIP1_sat_3.1.2.nc',\n",
       " 'MapLowMidHigh_Phase330m_200611_avg_CFMIP1_sat_3.1.2.nc',\n",
       " 'MapLowMidHigh_Phase330m_200612_avg_CFMIP1_sat_3.1.2.nc',\n",
       " 'MapLowMidHigh330m_200612_avg_CFMIP1_sat_3.1.2.nc',\n",
       " 'MapLowMidHigh330m_200611_avg_CFMIP1_sat_3.1.2.nc',\n",
       " 'MapLowMidHigh_Phase330m_200609_avg_CFMIP1_sat_3.1.2.nc',\n",
       " 'MapLowMidHigh330m_200609_avg_CFMIP1_sat_3.1.2.nc',\n",
       " 'MapLowMidHigh330m_200608_avg_CFMIP1_sat_3.1.2.nc',\n",
       " 'MapLowMidHigh330m_200606_avg_CFMIP1_sat_3.1.2.nc',\n",
       " 'MapLowMidHigh_Phase330m_200610_avg_CFMIP1_sat_3.1.2.nc',\n",
       " 'MapLowMidHigh_Phase330m_200606_avg_CFMIP1_sat_3.1.2.nc']"
      ]
     },
     "execution_count": 11,
     "metadata": {},
     "output_type": "execute_result"
    }
   ],
   "source": [
    "og_dir = '/glade/u/home/jonahshaw/w/obs/CALIPSO/GOCCP/2Ddata/grid_1x1_2006/'\n",
    "os.listdir(og_dir)"
   ]
  },
  {
   "cell_type": "code",
   "execution_count": 10,
   "metadata": {},
   "outputs": [
    {
     "data": {
      "text/plain": [
       "'ncks -C -x -v time MapLowMidHigh330m_200606_avg_CFMIP1_sat_3.1.2.nc timeless.nc'"
      ]
     },
     "execution_count": 10,
     "metadata": {},
     "output_type": "execute_result"
    }
   ],
   "source": [
    "f'ncks -C -x -v time MapLowMidHigh330m_200606_avg_CFMIP1_sat_3.1.2.nc timeless.nc'"
   ]
  },
  {
   "cell_type": "markdown",
   "metadata": {},
   "source": [
    "Value 127 is returned by /bin/sh when the given command is not found within your PATH system variable and it is not a built-in shell command."
   ]
  },
  {
   "cell_type": "markdown",
   "metadata": {},
   "source": [
    "## This kept not working for an unclear reason, so I pasted it into a standard python file and executed it via the terminal :("
   ]
  },
  {
   "cell_type": "code",
   "execution_count": 27,
   "metadata": {},
   "outputs": [
    {
     "name": "stdout",
     "output_type": "stream",
     "text": [
      "module load nco\n",
      "CompletedProcess(args='module load nco', returncode=0)\n",
      "ncks -C -x -v time /glade/u/home/jonahshaw/w/obs/CALIPSO/GOCCP/2Ddata/grid_1x1_2006/MapLowMidHigh330m_200610_avg_CFMIP1_sat_3.1.2.nc /glade/u/home/jonahshaw/w/obs/CALIPSO/GOCCP/2Ddata/grid_1x1_2006fix/MapLowMidHigh330m_200610_avg_CFMIP1_sat_3.1.2.nc\n",
      "CompletedProcess(args='ncks -C -x -v time /glade/u/home/jonahshaw/w/obs/CALIPSO/GOCCP/2Ddata/grid_1x1_2006/MapLowMidHigh330m_200610_avg_CFMIP1_sat_3.1.2.nc /glade/u/home/jonahshaw/w/obs/CALIPSO/GOCCP/2Ddata/grid_1x1_2006fix/MapLowMidHigh330m_200610_avg_CFMIP1_sat_3.1.2.nc', returncode=127)\n",
      "ncks -C -x -v time /glade/u/home/jonahshaw/w/obs/CALIPSO/GOCCP/2Ddata/grid_1x1_2006/MapLowMidHigh330m_200607_avg_CFMIP1_sat_3.1.2.nc /glade/u/home/jonahshaw/w/obs/CALIPSO/GOCCP/2Ddata/grid_1x1_2006fix/MapLowMidHigh330m_200607_avg_CFMIP1_sat_3.1.2.nc\n",
      "CompletedProcess(args='ncks -C -x -v time /glade/u/home/jonahshaw/w/obs/CALIPSO/GOCCP/2Ddata/grid_1x1_2006/MapLowMidHigh330m_200607_avg_CFMIP1_sat_3.1.2.nc /glade/u/home/jonahshaw/w/obs/CALIPSO/GOCCP/2Ddata/grid_1x1_2006fix/MapLowMidHigh330m_200607_avg_CFMIP1_sat_3.1.2.nc', returncode=127)\n",
      "ncks -C -x -v time /glade/u/home/jonahshaw/w/obs/CALIPSO/GOCCP/2Ddata/grid_1x1_2006/MapLowMidHigh_Phase330m_200608_avg_CFMIP1_sat_3.1.2.nc /glade/u/home/jonahshaw/w/obs/CALIPSO/GOCCP/2Ddata/grid_1x1_2006fix/MapLowMidHigh_Phase330m_200608_avg_CFMIP1_sat_3.1.2.nc\n",
      "CompletedProcess(args='ncks -C -x -v time /glade/u/home/jonahshaw/w/obs/CALIPSO/GOCCP/2Ddata/grid_1x1_2006/MapLowMidHigh_Phase330m_200608_avg_CFMIP1_sat_3.1.2.nc /glade/u/home/jonahshaw/w/obs/CALIPSO/GOCCP/2Ddata/grid_1x1_2006fix/MapLowMidHigh_Phase330m_200608_avg_CFMIP1_sat_3.1.2.nc', returncode=127)\n",
      "ncks -C -x -v time /glade/u/home/jonahshaw/w/obs/CALIPSO/GOCCP/2Ddata/grid_1x1_2006/MapLowMidHigh_Phase330m_200607_avg_CFMIP1_sat_3.1.2.nc /glade/u/home/jonahshaw/w/obs/CALIPSO/GOCCP/2Ddata/grid_1x1_2006fix/MapLowMidHigh_Phase330m_200607_avg_CFMIP1_sat_3.1.2.nc\n",
      "CompletedProcess(args='ncks -C -x -v time /glade/u/home/jonahshaw/w/obs/CALIPSO/GOCCP/2Ddata/grid_1x1_2006/MapLowMidHigh_Phase330m_200607_avg_CFMIP1_sat_3.1.2.nc /glade/u/home/jonahshaw/w/obs/CALIPSO/GOCCP/2Ddata/grid_1x1_2006fix/MapLowMidHigh_Phase330m_200607_avg_CFMIP1_sat_3.1.2.nc', returncode=127)\n",
      "ncks -C -x -v time /glade/u/home/jonahshaw/w/obs/CALIPSO/GOCCP/2Ddata/grid_1x1_2006/MapLowMidHigh_Phase330m_200611_avg_CFMIP1_sat_3.1.2.nc /glade/u/home/jonahshaw/w/obs/CALIPSO/GOCCP/2Ddata/grid_1x1_2006fix/MapLowMidHigh_Phase330m_200611_avg_CFMIP1_sat_3.1.2.nc\n",
      "CompletedProcess(args='ncks -C -x -v time /glade/u/home/jonahshaw/w/obs/CALIPSO/GOCCP/2Ddata/grid_1x1_2006/MapLowMidHigh_Phase330m_200611_avg_CFMIP1_sat_3.1.2.nc /glade/u/home/jonahshaw/w/obs/CALIPSO/GOCCP/2Ddata/grid_1x1_2006fix/MapLowMidHigh_Phase330m_200611_avg_CFMIP1_sat_3.1.2.nc', returncode=127)\n",
      "ncks -C -x -v time /glade/u/home/jonahshaw/w/obs/CALIPSO/GOCCP/2Ddata/grid_1x1_2006/MapLowMidHigh_Phase330m_200612_avg_CFMIP1_sat_3.1.2.nc /glade/u/home/jonahshaw/w/obs/CALIPSO/GOCCP/2Ddata/grid_1x1_2006fix/MapLowMidHigh_Phase330m_200612_avg_CFMIP1_sat_3.1.2.nc\n",
      "CompletedProcess(args='ncks -C -x -v time /glade/u/home/jonahshaw/w/obs/CALIPSO/GOCCP/2Ddata/grid_1x1_2006/MapLowMidHigh_Phase330m_200612_avg_CFMIP1_sat_3.1.2.nc /glade/u/home/jonahshaw/w/obs/CALIPSO/GOCCP/2Ddata/grid_1x1_2006fix/MapLowMidHigh_Phase330m_200612_avg_CFMIP1_sat_3.1.2.nc', returncode=127)\n",
      "ncks -C -x -v time /glade/u/home/jonahshaw/w/obs/CALIPSO/GOCCP/2Ddata/grid_1x1_2006/MapLowMidHigh330m_200612_avg_CFMIP1_sat_3.1.2.nc /glade/u/home/jonahshaw/w/obs/CALIPSO/GOCCP/2Ddata/grid_1x1_2006fix/MapLowMidHigh330m_200612_avg_CFMIP1_sat_3.1.2.nc\n",
      "CompletedProcess(args='ncks -C -x -v time /glade/u/home/jonahshaw/w/obs/CALIPSO/GOCCP/2Ddata/grid_1x1_2006/MapLowMidHigh330m_200612_avg_CFMIP1_sat_3.1.2.nc /glade/u/home/jonahshaw/w/obs/CALIPSO/GOCCP/2Ddata/grid_1x1_2006fix/MapLowMidHigh330m_200612_avg_CFMIP1_sat_3.1.2.nc', returncode=127)\n",
      "ncks -C -x -v time /glade/u/home/jonahshaw/w/obs/CALIPSO/GOCCP/2Ddata/grid_1x1_2006/MapLowMidHigh330m_200611_avg_CFMIP1_sat_3.1.2.nc /glade/u/home/jonahshaw/w/obs/CALIPSO/GOCCP/2Ddata/grid_1x1_2006fix/MapLowMidHigh330m_200611_avg_CFMIP1_sat_3.1.2.nc\n",
      "CompletedProcess(args='ncks -C -x -v time /glade/u/home/jonahshaw/w/obs/CALIPSO/GOCCP/2Ddata/grid_1x1_2006/MapLowMidHigh330m_200611_avg_CFMIP1_sat_3.1.2.nc /glade/u/home/jonahshaw/w/obs/CALIPSO/GOCCP/2Ddata/grid_1x1_2006fix/MapLowMidHigh330m_200611_avg_CFMIP1_sat_3.1.2.nc', returncode=127)\n",
      "ncks -C -x -v time /glade/u/home/jonahshaw/w/obs/CALIPSO/GOCCP/2Ddata/grid_1x1_2006/MapLowMidHigh_Phase330m_200609_avg_CFMIP1_sat_3.1.2.nc /glade/u/home/jonahshaw/w/obs/CALIPSO/GOCCP/2Ddata/grid_1x1_2006fix/MapLowMidHigh_Phase330m_200609_avg_CFMIP1_sat_3.1.2.nc\n",
      "CompletedProcess(args='ncks -C -x -v time /glade/u/home/jonahshaw/w/obs/CALIPSO/GOCCP/2Ddata/grid_1x1_2006/MapLowMidHigh_Phase330m_200609_avg_CFMIP1_sat_3.1.2.nc /glade/u/home/jonahshaw/w/obs/CALIPSO/GOCCP/2Ddata/grid_1x1_2006fix/MapLowMidHigh_Phase330m_200609_avg_CFMIP1_sat_3.1.2.nc', returncode=127)\n",
      "ncks -C -x -v time /glade/u/home/jonahshaw/w/obs/CALIPSO/GOCCP/2Ddata/grid_1x1_2006/MapLowMidHigh330m_200609_avg_CFMIP1_sat_3.1.2.nc /glade/u/home/jonahshaw/w/obs/CALIPSO/GOCCP/2Ddata/grid_1x1_2006fix/MapLowMidHigh330m_200609_avg_CFMIP1_sat_3.1.2.nc\n",
      "CompletedProcess(args='ncks -C -x -v time /glade/u/home/jonahshaw/w/obs/CALIPSO/GOCCP/2Ddata/grid_1x1_2006/MapLowMidHigh330m_200609_avg_CFMIP1_sat_3.1.2.nc /glade/u/home/jonahshaw/w/obs/CALIPSO/GOCCP/2Ddata/grid_1x1_2006fix/MapLowMidHigh330m_200609_avg_CFMIP1_sat_3.1.2.nc', returncode=127)\n",
      "ncks -C -x -v time /glade/u/home/jonahshaw/w/obs/CALIPSO/GOCCP/2Ddata/grid_1x1_2006/MapLowMidHigh330m_200608_avg_CFMIP1_sat_3.1.2.nc /glade/u/home/jonahshaw/w/obs/CALIPSO/GOCCP/2Ddata/grid_1x1_2006fix/MapLowMidHigh330m_200608_avg_CFMIP1_sat_3.1.2.nc\n",
      "CompletedProcess(args='ncks -C -x -v time /glade/u/home/jonahshaw/w/obs/CALIPSO/GOCCP/2Ddata/grid_1x1_2006/MapLowMidHigh330m_200608_avg_CFMIP1_sat_3.1.2.nc /glade/u/home/jonahshaw/w/obs/CALIPSO/GOCCP/2Ddata/grid_1x1_2006fix/MapLowMidHigh330m_200608_avg_CFMIP1_sat_3.1.2.nc', returncode=127)\n",
      "ncks -C -x -v time /glade/u/home/jonahshaw/w/obs/CALIPSO/GOCCP/2Ddata/grid_1x1_2006/MapLowMidHigh330m_200606_avg_CFMIP1_sat_3.1.2.nc /glade/u/home/jonahshaw/w/obs/CALIPSO/GOCCP/2Ddata/grid_1x1_2006fix/MapLowMidHigh330m_200606_avg_CFMIP1_sat_3.1.2.nc\n",
      "CompletedProcess(args='ncks -C -x -v time /glade/u/home/jonahshaw/w/obs/CALIPSO/GOCCP/2Ddata/grid_1x1_2006/MapLowMidHigh330m_200606_avg_CFMIP1_sat_3.1.2.nc /glade/u/home/jonahshaw/w/obs/CALIPSO/GOCCP/2Ddata/grid_1x1_2006fix/MapLowMidHigh330m_200606_avg_CFMIP1_sat_3.1.2.nc', returncode=127)\n",
      "ncks -C -x -v time /glade/u/home/jonahshaw/w/obs/CALIPSO/GOCCP/2Ddata/grid_1x1_2006/MapLowMidHigh_Phase330m_200610_avg_CFMIP1_sat_3.1.2.nc /glade/u/home/jonahshaw/w/obs/CALIPSO/GOCCP/2Ddata/grid_1x1_2006fix/MapLowMidHigh_Phase330m_200610_avg_CFMIP1_sat_3.1.2.nc\n",
      "CompletedProcess(args='ncks -C -x -v time /glade/u/home/jonahshaw/w/obs/CALIPSO/GOCCP/2Ddata/grid_1x1_2006/MapLowMidHigh_Phase330m_200610_avg_CFMIP1_sat_3.1.2.nc /glade/u/home/jonahshaw/w/obs/CALIPSO/GOCCP/2Ddata/grid_1x1_2006fix/MapLowMidHigh_Phase330m_200610_avg_CFMIP1_sat_3.1.2.nc', returncode=127)\n",
      "ncks -C -x -v time /glade/u/home/jonahshaw/w/obs/CALIPSO/GOCCP/2Ddata/grid_1x1_2006/MapLowMidHigh_Phase330m_200606_avg_CFMIP1_sat_3.1.2.nc /glade/u/home/jonahshaw/w/obs/CALIPSO/GOCCP/2Ddata/grid_1x1_2006fix/MapLowMidHigh_Phase330m_200606_avg_CFMIP1_sat_3.1.2.nc\n",
      "CompletedProcess(args='ncks -C -x -v time /glade/u/home/jonahshaw/w/obs/CALIPSO/GOCCP/2Ddata/grid_1x1_2006/MapLowMidHigh_Phase330m_200606_avg_CFMIP1_sat_3.1.2.nc /glade/u/home/jonahshaw/w/obs/CALIPSO/GOCCP/2Ddata/grid_1x1_2006fix/MapLowMidHigh_Phase330m_200606_avg_CFMIP1_sat_3.1.2.nc', returncode=127)\n"
     ]
    }
   ],
   "source": [
    "og_dir = '/glade/u/home/jonahshaw/w/obs/CALIPSO/GOCCP/2Ddata/grid_1x1_2006/'\n",
    "out_dir = '/glade/u/home/jonahshaw/w/obs/CALIPSO/GOCCP/2Ddata/grid_1x1_2006fix/'\n",
    "\n",
    "commands = [f'module load nco']\n",
    "for file in os.listdir(og_dir): # iterate over years (2009-2013)\n",
    "    _prepath = '%s%s' % (og_dir, file)\n",
    "    _outpath = '%s%s' % (out_dir, file)\n",
    "    \n",
    "    comm = f'ncks -C -x -v time {_prepath} {_outpath}'\n",
    "    commands.append(comm)\n",
    "    \n",
    "for com in commands:\n",
    "    print(com)\n",
    "#     run(com)\n",
    "    out = run(com, cwd='/glade/u/home/jonahshaw/w/obs/', shell=True)\n",
    "    print(out)\n",
    "\n",
    "\n",
    "#     _files = os.listdir(_prepath)\n",
    "\n",
    "#     print(os.path.exists(_prepath))\n",
    "\n",
    "#     _phasefiles = [_prepath + x for x in _files if 'Phase' in x]\n",
    "#     _cloudfiles = [_prepath + x for x in _files if 'MapLowMidHigh330m' in x]\n",
    "\n",
    "#     phase = phase + _phasefiles\n",
    "#     cloud = cloud + _cloudfiles"
   ]
  },
  {
   "cell_type": "code",
   "execution_count": null,
   "metadata": {},
   "outputs": [],
   "source": []
  }
 ],
 "metadata": {
  "kernelspec": {
   "display_name": "Python [conda env:cheycomp]",
   "language": "python",
   "name": "conda-env-cheycomp-py"
  },
  "language_info": {
   "codemirror_mode": {
    "name": "ipython",
    "version": 3
   },
   "file_extension": ".py",
   "mimetype": "text/x-python",
   "name": "python",
   "nbconvert_exporter": "python",
   "pygments_lexer": "ipython3",
   "version": "3.7.8"
  }
 },
 "nbformat": 4,
 "nbformat_minor": 4
}
